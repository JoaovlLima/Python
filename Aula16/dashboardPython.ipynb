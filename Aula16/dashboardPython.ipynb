{
 "cells": [
  {
   "cell_type": "code",
   "execution_count": 20,
   "metadata": {},
   "outputs": [],
   "source": [
    "import pandas as pd\n",
    "import matplotlib.pyplot as plt "
   ]
  },
  {
   "cell_type": "code",
   "execution_count": 24,
   "metadata": {},
   "outputs": [
    {
     "name": "stdout",
     "output_type": "stream",
     "text": [
      "<bound method NDFrame.head of                                                lojas\n",
      "0  {'id': 1, 'dados_mensais': [{'mes': 1, 'fatura...\n",
      "1  {'id': 2, 'dados_mensais': [{'mes': 1, 'fatura...\n",
      "2  {'id': 3, 'dados_mensais': [{'mes': 1, 'fatura...\n",
      "3  {'id': 4, 'dados_mensais': [{'mes': 1, 'fatura...\n",
      "4  {'id': 5, 'dados_mensais': [{'mes': 1, 'fatura...>\n"
     ]
    }
   ],
   "source": [
    "df_supermarket = pd.read_json('supermarket.json')\n",
    "\n",
    "print(df_supermarket.head)"
   ]
  },
  {
   "cell_type": "code",
   "execution_count": 25,
   "metadata": {},
   "outputs": [],
   "source": [
    "# Função para extrair os dados de um determinado mês para uma loja específica\n",
    "def extrair_dados_loja_mes(loja_id, mes):\n",
    "    for loja in df_supermarket['lojas']:\n",
    "        if loja['id'] == loja_id:\n",
    "            for dados_mensais in loja['dados_mensais']:\n",
    "                if dados_mensais['mes'] == mes:\n",
    "                    return dados_mensais\n",
    "    return None"
   ]
  },
  {
   "cell_type": "code",
   "execution_count": 26,
   "metadata": {},
   "outputs": [
    {
     "data": {
      "text/plain": [
       "{'mes': 8,\n",
       " 'faturamento': {'higiene_e_saude': 14200,\n",
       "  'limpeza': 19800,\n",
       "  'bebidas': 8200,\n",
       "  'carne_e_laticinios': 4900,\n",
       "  'alimentacao': 5100},\n",
       " 'gastos_funcionarios': 28000,\n",
       " 'despesas_fornecedores': 23000,\n",
       " 'gastos_diversos': 8500}"
      ]
     },
     "execution_count": 26,
     "metadata": {},
     "output_type": "execute_result"
    }
   ],
   "source": [
    "extrair_dados_loja_mes(5,8)"
   ]
  },
  {
   "cell_type": "code",
   "execution_count": 30,
   "metadata": {},
   "outputs": [
    {
     "name": "stdout",
     "output_type": "stream",
     "text": [
      "Loja ID: 1\n",
      "Lucro Anual: 26200\n",
      "Mês: 1, Faturamento Total: 53800, Gastos Totais: 40000, Lucro Mensal: 13800\n",
      "Mês: 2, Faturamento Total: 53300, Gastos Totais: 42100, Lucro Mensal: 11200\n",
      "Mês: 3, Faturamento Total: 53800, Gastos Totais: 44200, Lucro Mensal: 9600\n",
      "Mês: 4, Faturamento Total: 53700, Gastos Totais: 46300, Lucro Mensal: 7400\n",
      "Mês: 5, Faturamento Total: 53800, Gastos Totais: 48400, Lucro Mensal: 5400\n",
      "Mês: 6, Faturamento Total: 53200, Gastos Totais: 50500, Lucro Mensal: 2700\n",
      "Mês: 7, Faturamento Total: 54200, Gastos Totais: 52600, Lucro Mensal: 1600\n",
      "Mês: 8, Faturamento Total: 53500, Gastos Totais: 54700, Lucro Mensal: -1200\n",
      "Mês: 9, Faturamento Total: 53800, Gastos Totais: 56800, Lucro Mensal: -3000\n",
      "Mês: 10, Faturamento Total: 54100, Gastos Totais: 58900, Lucro Mensal: -4800\n",
      "Mês: 11, Faturamento Total: 54200, Gastos Totais: 61000, Lucro Mensal: -6800\n",
      "Mês: 12, Faturamento Total: 53400, Gastos Totais: 63100, Lucro Mensal: -9700\n",
      "\n",
      "Loja ID: 2\n",
      "Lucro Anual: 48400\n",
      "Mês: 1, Faturamento Total: 53200, Gastos Totais: 38000, Lucro Mensal: 15200\n",
      "Mês: 2, Faturamento Total: 53200, Gastos Totais: 40100, Lucro Mensal: 13100\n",
      "Mês: 3, Faturamento Total: 53300, Gastos Totais: 42200, Lucro Mensal: 11100\n",
      "Mês: 4, Faturamento Total: 53900, Gastos Totais: 44300, Lucro Mensal: 9600\n",
      "Mês: 5, Faturamento Total: 53000, Gastos Totais: 46400, Lucro Mensal: 6600\n",
      "Mês: 6, Faturamento Total: 54400, Gastos Totais: 48500, Lucro Mensal: 5900\n",
      "Mês: 7, Faturamento Total: 53000, Gastos Totais: 50600, Lucro Mensal: 2400\n",
      "Mês: 8, Faturamento Total: 53500, Gastos Totais: 52700, Lucro Mensal: 800\n",
      "Mês: 9, Faturamento Total: 54100, Gastos Totais: 54800, Lucro Mensal: -700\n",
      "Mês: 10, Faturamento Total: 54100, Gastos Totais: 56900, Lucro Mensal: -2800\n",
      "Mês: 11, Faturamento Total: 53200, Gastos Totais: 59000, Lucro Mensal: -5800\n",
      "Mês: 12, Faturamento Total: 54100, Gastos Totais: 61100, Lucro Mensal: -7000\n",
      "\n",
      "Loja ID: 3\n",
      "Lucro Anual: -127500\n",
      "Mês: 1, Faturamento Total: 53100, Gastos Totais: 50000, Lucro Mensal: 3100\n",
      "Mês: 2, Faturamento Total: 53200, Gastos Totais: 52500, Lucro Mensal: 700\n",
      "Mês: 3, Faturamento Total: 53300, Gastos Totais: 55000, Lucro Mensal: -1700\n",
      "Mês: 4, Faturamento Total: 52800, Gastos Totais: 57500, Lucro Mensal: -4700\n",
      "Mês: 5, Faturamento Total: 53200, Gastos Totais: 60000, Lucro Mensal: -6800\n",
      "Mês: 6, Faturamento Total: 53300, Gastos Totais: 62500, Lucro Mensal: -9200\n",
      "Mês: 7, Faturamento Total: 53300, Gastos Totais: 65000, Lucro Mensal: -11700\n",
      "Mês: 8, Faturamento Total: 53200, Gastos Totais: 67500, Lucro Mensal: -14300\n",
      "Mês: 9, Faturamento Total: 53000, Gastos Totais: 70000, Lucro Mensal: -17000\n",
      "Mês: 10, Faturamento Total: 53200, Gastos Totais: 72500, Lucro Mensal: -19300\n",
      "Mês: 11, Faturamento Total: 52900, Gastos Totais: 75000, Lucro Mensal: -22100\n",
      "Mês: 12, Faturamento Total: 53000, Gastos Totais: 77500, Lucro Mensal: -24500\n",
      "\n",
      "Loja ID: 4\n",
      "Lucro Anual: -88900\n",
      "Mês: 1, Faturamento Total: 53100, Gastos Totais: 46000, Lucro Mensal: 7100\n",
      "Mês: 2, Faturamento Total: 52800, Gastos Totais: 49000, Lucro Mensal: 3800\n",
      "Mês: 3, Faturamento Total: 52800, Gastos Totais: 51500, Lucro Mensal: 1300\n",
      "Mês: 4, Faturamento Total: 53000, Gastos Totais: 54000, Lucro Mensal: -1000\n",
      "Mês: 5, Faturamento Total: 52700, Gastos Totais: 56500, Lucro Mensal: -3800\n",
      "Mês: 6, Faturamento Total: 52700, Gastos Totais: 59000, Lucro Mensal: -6300\n",
      "Mês: 7, Faturamento Total: 53000, Gastos Totais: 61500, Lucro Mensal: -8500\n",
      "Mês: 8, Faturamento Total: 52400, Gastos Totais: 64000, Lucro Mensal: -11600\n",
      "Mês: 9, Faturamento Total: 52800, Gastos Totais: 66500, Lucro Mensal: -13700\n",
      "Mês: 10, Faturamento Total: 53200, Gastos Totais: 69000, Lucro Mensal: -15800\n",
      "Mês: 11, Faturamento Total: 52900, Gastos Totais: 71500, Lucro Mensal: -18600\n",
      "Mês: 12, Faturamento Total: 52200, Gastos Totais: 74000, Lucro Mensal: -21800\n",
      "\n",
      "Loja ID: 5\n",
      "Lucro Anual: -54500\n",
      "Mês: 1, Faturamento Total: 48200, Gastos Totais: 42000, Lucro Mensal: 6200\n",
      "Mês: 2, Faturamento Total: 49300, Gastos Totais: 44500, Lucro Mensal: 4800\n",
      "Mês: 3, Faturamento Total: 53500, Gastos Totais: 47000, Lucro Mensal: 6500\n",
      "Mês: 4, Faturamento Total: 51000, Gastos Totais: 49500, Lucro Mensal: 1500\n",
      "Mês: 5, Faturamento Total: 51000, Gastos Totais: 52000, Lucro Mensal: -1000\n",
      "Mês: 6, Faturamento Total: 51700, Gastos Totais: 54500, Lucro Mensal: -2800\n",
      "Mês: 7, Faturamento Total: 51200, Gastos Totais: 57000, Lucro Mensal: -5800\n",
      "Mês: 8, Faturamento Total: 52200, Gastos Totais: 59500, Lucro Mensal: -7300\n",
      "Mês: 9, Faturamento Total: 50900, Gastos Totais: 62000, Lucro Mensal: -11100\n",
      "Mês: 10, Faturamento Total: 50900, Gastos Totais: 64500, Lucro Mensal: -13600\n",
      "Mês: 11, Faturamento Total: 53000, Gastos Totais: 67000, Lucro Mensal: -14000\n",
      "Mês: 12, Faturamento Total: 51600, Gastos Totais: 69500, Lucro Mensal: -17900\n",
      "\n"
     ]
    }
   ],
   "source": [
    "# Função para calcular lucro mensal e anual\n",
    "def calcular_lucro(df_supermarket):\n",
    "    resultados = []\n",
    "    for loja in df_supermarket['lojas']:\n",
    "        id_loja = loja['id']\n",
    "        lucro_anual = 0\n",
    "        detalhes_mensais = []\n",
    "        \n",
    "        for mes in loja['dados_mensais']:\n",
    "            mes_num = mes['mes']\n",
    "            faturamento_total = sum(mes['faturamento'].values())\n",
    "            gastos_totais = mes['gastos_funcionarios'] + mes['despesas_fornecedores'] + mes['gastos_diversos']\n",
    "            lucro_mensal = faturamento_total - gastos_totais\n",
    "            lucro_anual += lucro_mensal\n",
    "            \n",
    "            detalhes_mensais.append({\n",
    "                'mes': mes_num,\n",
    "                'faturamento_total': faturamento_total,\n",
    "                'gastos_totais': gastos_totais,\n",
    "                'lucro_mensal': lucro_mensal\n",
    "            })\n",
    "        \n",
    "        resultados.append({\n",
    "            'id_loja': id_loja,\n",
    "            'lucro_anual': lucro_anual,\n",
    "            'detalhes_mensais': detalhes_mensais\n",
    "        })\n",
    "    \n",
    "    return resultados\n",
    "\n",
    "# Chamar a função e exibir os resultados\n",
    "resultados = calcular_lucro(df_supermarket)\n",
    "for resultado in resultados:\n",
    "    print(f\"Loja ID: {resultado['id_loja']}\")\n",
    "    print(f\"Lucro Anual: {resultado['lucro_anual']}\")\n",
    "    for detalhe in resultado['detalhes_mensais']:\n",
    "        print(f\"Mês: {detalhe['mes']}, Faturamento Total: {detalhe['faturamento_total']}, Gastos Totais: {detalhe['gastos_totais']}, Lucro Mensal: {detalhe['lucro_mensal']}\")\n",
    "    print()"
   ]
  }
 ],
 "metadata": {
  "kernelspec": {
   "display_name": "Python 3",
   "language": "python",
   "name": "python3"
  },
  "language_info": {
   "codemirror_mode": {
    "name": "ipython",
    "version": 3
   },
   "file_extension": ".py",
   "mimetype": "text/x-python",
   "name": "python",
   "nbconvert_exporter": "python",
   "pygments_lexer": "ipython3",
   "version": "3.12.3"
  }
 },
 "nbformat": 4,
 "nbformat_minor": 2
}
