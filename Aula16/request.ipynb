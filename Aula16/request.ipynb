{
 "cells": [
  {
   "cell_type": "code",
   "execution_count": null,
   "metadata": {},
   "outputs": [],
   "source": [
    "apiKey ='681126f28e7d6fa3a7cfe0da0671e599'\n",
    "baseUrl ='https://api.openweathermap.org/data/2.5/weather'\n",
    "\n",
    "city = input"
   ]
  }
 ],
 "metadata": {
  "language_info": {
   "name": "python"
  }
 },
 "nbformat": 4,
 "nbformat_minor": 2
}
